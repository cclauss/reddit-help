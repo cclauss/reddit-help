{
 "cells": [
  {
   "cell_type": "markdown",
   "metadata": {},
   "source": [
    "# Reddit Help #5"
   ]
  },
  {
   "cell_type": "markdown",
   "metadata": {},
   "source": [
    "## Hex dip switch decoder?\n",
    "\n",
    "So I've been having trouble trying to even put into words what I'm trying to do, hence why I'm making a reddit post and not just googleing it. Also because of this the title isn't 100% correct but its about as close as I can get, anyways the thing I'm trying to solve.\n",
    "\n",
    "So I \"ping the black box\" and it returns a hex value like 0x00000003  \n",
    "And I know that 0 == option A, 1 == option B, 2 == Option C, 4 == Option D, 8 == Option E, etc..  \n",
    "However 3 is Option B and C at the same time.  \n",
    "And I can't just do a simple int convent as 0x000000A0 == option G and I at the same time  \n",
    "(option G = 20 + Option I = 80)  \n",
    "And it gets worse with stuff like 0x80000003 is the \"debug\" ver of B and C at the same time.  \n",
    "(0x80000007 == Debug option A + B + C)  \n",
    "There doesn't appear to be any base options that are hex. they just count up in \\*2 or \\^2. i'm not that good at math.  \n",
    "0, 1, 2, 4, 8, 10, 20, 40, 80, 100...  \n",
    "(0x400003FF)\n",
    "\n",
    "Thankfully I just need to decode this into a string like `0x00000003 == option B + option C`, I don't need to do anything fancy. So a list of all the base options would work, just not sure how to look up and add more then one base option to my output string based on a single input hex that's the result of math I don't know.  \n",
    "Sure I could convert the hex to dec and have a huge list of every possible combo, to do something like `lstAllOptions[decConvert]` or more like `lstAllOptions[lstAlldec.index(decConvert)]` so I don't have to pad the list, just use the index of one list on another list. but that feels a little... excessive..  \n",
    "lstAlldec = \\['0x00000000','0x00000003','0x00000003',.... \\]  \n",
    "lstAllOptions = \\['Option A', 'Option B', 'Option A + B',....\\]  \n",
    "I feel like there is a \"normal and simple\" just plug it into n library but idk what that is.  \n",
    "Or a for loop of some kind to decode one hex position at a time.  \n",
    "idk I'm grasping at straws here.  \n",
    "Thanks for any help in advanced."
   ]
  },
  {
   "cell_type": "code",
   "execution_count": null,
   "metadata": {},
   "outputs": [],
   "source": [
    "import math\n",
    "from string import ascii_uppercase\n",
    "\n",
    "def decompose(num):\n",
    "    options = []\n",
    "    mask = 2**int(math.log2(num))\n",
    "    while (out := num & mask) > 0:\n",
    "        options.append(f\"option {ascii_uppercase[int(math.log2(out)) + 1]}\")\n",
    "        mask >>= 1\n",
    "    print(\" + \".join(sorted(options)))"
   ]
  },
  {
   "cell_type": "code",
   "execution_count": null,
   "metadata": {},
   "outputs": [],
   "source": [
    "decompose(15)"
   ]
  },
  {
   "cell_type": "markdown",
   "metadata": {},
   "source": [
    "## Python homework help\n",
    "\n",
    "I have to write a function that encrypts a msg for a homework assignment. \n",
    "\n",
    "These are the guidelines we were given:\n",
    "\n",
    "* If the character is uppercase: change it to lowercase with '!' sign on its both sides (e.g. 'M' --> '!m!');\n",
    "* If the character is lowercase: change it to uppercase with '!' sign on its both sides (e.g. 'm' --> '!M!');\n",
    "* If the character is a digit: cube the digit, i.e. raise to the power of 3 (e.g. '5' --> '125');\n",
    "* If the character is a blank space: replace it with '$' symbol;\n",
    "* Otherwise: keep it as it is.\n",
    "\n",
    "and this is an example of what she wants:\n",
    "\n",
    " encrypt('500 Miles') **returns** '12500$!m!!I!!L!!E!!S!'  \n",
    "encrypt('Tesla Model 3.') **returns** '!t!!E!!S!!L!!A!$!m!!O!!D!!E!!L!$27.'  \n",
    "encrypt('go-2-sky') **returns** '!G!!O!-8-!S!!K!!Y!' \n",
    "\n",
    "I need help figuring out how to start writing this program. Any help is appreciated."
   ]
  },
  {
   "cell_type": "code",
   "execution_count": null,
   "metadata": {},
   "outputs": [],
   "source": [
    "def encrypt_char(char):\n",
    "    if char.isspace():\n",
    "        return \"$\"\n",
    "    if char.isdigit():\n",
    "        return f\"{int(char)**3}\"\n",
    "    if char.isupper():\n",
    "        return f\"!{char.lower()}!\"\n",
    "    if char.islower():\n",
    "        return f\"!{char.upper()}!\"\n",
    "    return char\n",
    "\n",
    "def encrypt(string):\n",
    "    return \"\".join(encrypt_char(char) for char in string)"
   ]
  },
  {
   "cell_type": "code",
   "execution_count": null,
   "metadata": {},
   "outputs": [],
   "source": [
    "encrypt(\"500 Miles\")"
   ]
  },
  {
   "cell_type": "markdown",
   "metadata": {},
   "source": [
    "## Scatter plot of Life Expectancy"
   ]
  },
  {
   "cell_type": "code",
   "execution_count": null,
   "metadata": {},
   "outputs": [],
   "source": [
    "import plotly.graph_objects as go\n",
    "\n",
    "import pandas as pd\n",
    "\n",
    "import plotly.io as pio\n",
    "pio.renderers.default='notebook'\n",
    "\n",
    "df = pd.read_csv(\n",
    "    \"https://raw.githubusercontent.com/plotly/\"\n",
    "    \"datasets/master/gapminderDataFiveYear.csv\"\n",
    ")\n",
    "\n",
    "start, end = 750, 1500\n",
    "\n",
    "fig = go.Figure(\n",
    "    data=go.Scatter3d(\n",
    "        x=df[\"year\"][start:end],\n",
    "        y=df[\"continent\"][start:end],\n",
    "        z=df[\"pop\"][start:end],\n",
    "        text=df[\"country\"][start:end],\n",
    "        mode=\"markers\",\n",
    "        marker=dict(\n",
    "            sizemode=\"diameter\",\n",
    "            sizeref=750,\n",
    "            size=df[\"gdpPercap\"][start:end],\n",
    "            color=df[\"lifeExp\"][start:end],\n",
    "            colorscale=\"Viridis\",\n",
    "            colorbar_title=\"Life<br>Expectancy\",\n",
    "            line_color=\"rgb(140, 140, 170)\",\n",
    "        )\n",
    "    )\n",
    ")\n",
    "\n",
    "fig.update_layout(\n",
    "    height=800,\n",
    "    width=800,\n",
    "    title=\"Examining Population and Life Expectancy Over Time\"\n",
    ")\n",
    "\n",
    "fig.show()"
   ]
  },
  {
   "cell_type": "markdown",
   "metadata": {},
   "source": [
    "## Plotly Examples"
   ]
  },
  {
   "cell_type": "code",
   "execution_count": null,
   "metadata": {},
   "outputs": [],
   "source": [
    "import plotly.graph_objects as go\n",
    "fig = go.Figure(\n",
    "    data=[go.Bar(y=[2, 1, 3])],\n",
    "    layout_title_text=\"A Figure Displayed with fig.show()\"\n",
    ")\n",
    "fig.show()"
   ]
  },
  {
   "cell_type": "code",
   "execution_count": null,
   "metadata": {},
   "outputs": [],
   "source": [
    "import plotly.express as px\n",
    "df = px.data.iris()\n",
    "fig = px.scatter_3d(df, x='sepal_length', y='sepal_width', z='petal_width',\n",
    "              color='species')\n",
    "fig.show()"
   ]
  },
  {
   "cell_type": "code",
   "execution_count": null,
   "metadata": {},
   "outputs": [],
   "source": [
    "import plotly.graph_objects as go\n",
    "import numpy as np\n",
    "\n",
    "# Helix equation\n",
    "t = np.linspace(0, 20, 100)\n",
    "x, y, z = np.cos(t), np.sin(t), t\n",
    "\n",
    "fig = go.Figure(data=[go.Scatter3d(\n",
    "    x=x,\n",
    "    y=y,\n",
    "    z=z,\n",
    "    mode='markers',\n",
    "    marker=dict(\n",
    "        size=12,\n",
    "        color=z,                # set color to an array/list of desired values\n",
    "        colorscale='Viridis',   # choose a colorscale\n",
    "        opacity=0.8\n",
    "    )\n",
    ")])\n",
    "\n",
    "# tight layout\n",
    "fig.update_layout(margin=dict(l=0, r=0, b=0, t=0))\n",
    "fig.show()"
   ]
  },
  {
   "cell_type": "code",
   "execution_count": null,
   "metadata": {},
   "outputs": [],
   "source": [
    "import plotly.graph_objects as go\n",
    "import numpy as np\n",
    "\n",
    "# Helix equation\n",
    "t = np.linspace(0, 10, 50)\n",
    "x, y, z = np.cos(t), np.sin(t), t\n",
    "\n",
    "fig = go.Figure(data=[go.Scatter3d(x=x, y=y, z=z,\n",
    "                                   mode='markers')])\n",
    "fig.show()"
   ]
  }
 ],
 "metadata": {
  "kernelspec": {
   "display_name": "Python 3 (ipykernel)",
   "language": "python",
   "name": "python3"
  },
  "language_info": {
   "codemirror_mode": {
    "name": "ipython",
    "version": 3
   },
   "file_extension": ".py",
   "mimetype": "text/x-python",
   "name": "python",
   "nbconvert_exporter": "python",
   "pygments_lexer": "ipython3",
   "version": "3.11.0"
  }
 },
 "nbformat": 4,
 "nbformat_minor": 2
}
