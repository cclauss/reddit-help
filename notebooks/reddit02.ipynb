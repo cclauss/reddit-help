{
 "cells": [
  {
   "cell_type": "markdown",
   "metadata": {},
   "source": [
    "# Reddit Help #2"
   ]
  },
  {
   "cell_type": "markdown",
   "metadata": {},
   "source": [
    "## Primality of Random Arrays"
   ]
  },
  {
   "cell_type": "code",
   "execution_count": null,
   "metadata": {},
   "outputs": [],
   "source": [
    "import os\n",
    "import pathlib\n",
    "\n",
    "os.environ[\"HOME\"] = pathlib.Path.cwd().as_posix()\n",
    "import ipydeps\n",
    "ipydeps.pip(\"numpy\")"
   ]
  },
  {
   "cell_type": "code",
   "execution_count": null,
   "metadata": {},
   "outputs": [],
   "source": [
    "import numpy as np"
   ]
  },
  {
   "cell_type": "code",
   "execution_count": null,
   "metadata": {},
   "outputs": [],
   "source": [
    "rng = np.random.default_rng()"
   ]
  },
  {
   "cell_type": "code",
   "execution_count": null,
   "metadata": {},
   "outputs": [],
   "source": [
    "random_arr = rng.integers(100, size=100)\n",
    "small_primes = (2, 3, 5, 7, 11, 13)"
   ]
  },
  {
   "cell_type": "code",
   "execution_count": null,
   "metadata": {},
   "outputs": [],
   "source": [
    "random_arr"
   ]
  },
  {
   "cell_type": "code",
   "execution_count": null,
   "metadata": {},
   "outputs": [],
   "source": [
    "div = [np.where(random_arr % p == 0) for p in small_primes]"
   ]
  },
  {
   "cell_type": "code",
   "execution_count": null,
   "metadata": {},
   "outputs": [],
   "source": [
    "div"
   ]
  },
  {
   "cell_type": "code",
   "execution_count": null,
   "metadata": {
    "scrolled": true
   },
   "outputs": [],
   "source": [
    "sorted(random_arr)"
   ]
  },
  {
   "cell_type": "markdown",
   "metadata": {},
   "source": [
    "## Mode"
   ]
  },
  {
   "cell_type": "code",
   "execution_count": null,
   "metadata": {},
   "outputs": [],
   "source": [
    "from typing import Union\n",
    "\n",
    "\n",
    "def calculate_mode(num_list: Union[list, tuple]) -> Union[None, int, list[int]]:\n",
    "    if not isinstance(num_list, (list, tuple)):\n",
    "        raise ValueError(f\"Expected 'list' or 'tuple' for num_list: '{type(num_list).__name__}' given.\")\n",
    "    counter = {num: num_list.count(num) for num in set(num_list)}\n",
    "    if len(counts := set(counter.values())) == 1:\n",
    "        return None\n",
    "    modes = [num for num, count in counter.items() if count == max(counts)]\n",
    "    return modes if len(modes) > 1 else modes.pop()\n",
    "\n",
    "\n",
    "# def calculate_mode(num_list):\n",
    "#    counter = {num: num_list.count(num) for num in set(num_list)}\n",
    "#    if len(counts := set(counter.values())) == 1:\n",
    "#        return None\n",
    "#    modes = [num for num, count in counter.items() if count == max(counts)]\n",
    "#    return modes if len(modes) > 1 else modes.pop()\n",
    "\n",
    "\n",
    "def main(num_list):\n",
    "    if (modes := calculate_mode(num_list)) is None:\n",
    "        print(\"No mode found!\")\n",
    "    else:\n",
    "        print(modes)\n",
    "\n",
    "\n",
    "def getmode(values: list) -> int:\n",
    "    modes = {}\n",
    "    highest = 0\n",
    "    for x in values:\n",
    "        if values.count(x) not in modes:\n",
    "            modes[values.count(x)] = []\n",
    "\n",
    "        modes[values.count(x)].append(x)\n",
    "        if values.count(x) > highest:\n",
    "            highest = values.count(x)\n",
    "\n",
    "        values.pop(values.index(x))\n",
    "\n",
    "    return modes[highest] if len(modes[highest]) > 1 else modes[highest][0]\n"
   ]
  },
  {
   "cell_type": "code",
   "execution_count": null,
   "metadata": {},
   "outputs": [],
   "source": [
    "from collections import Counter\n",
    "from collections.abc import Sequence\n",
    "from typing import Optional, Union\n",
    "\n",
    "\n",
    "def calculate_mode(num_list: Sequence) -> Optional[Union[int, Sequence[int]]]:\n",
    "    if not isinstance(num_list, Sequence):\n",
    "        raise ValueError(\n",
    "            f\"Expected a sequence-type for num_list: '{type(num_list).__name__}' given.\"\n",
    "        )\n",
    "    counter = Counter(num_list)\n",
    "    if len(counts := set(counter.values())) == 1:\n",
    "        return None\n",
    "    modes = [num for num, count in counter.items() if count == max(counts)]\n",
    "    return modes if len(modes) > 1 else modes.pop()\n"
   ]
  },
  {
   "cell_type": "code",
   "execution_count": null,
   "metadata": {},
   "outputs": [],
   "source": [
    "calculate_mode([1,1,2,3,3,2])"
   ]
  }
 ],
 "metadata": {
  "kernelspec": {
   "display_name": "Python 3 (ipykernel)",
   "language": "python",
   "name": "python3"
  },
  "language_info": {
   "codemirror_mode": {
    "name": "ipython",
    "version": 3
   },
   "file_extension": ".py",
   "mimetype": "text/x-python",
   "name": "python",
   "nbconvert_exporter": "python",
   "pygments_lexer": "ipython3",
   "version": "3.11.0"
  }
 },
 "nbformat": 4,
 "nbformat_minor": 2
}
